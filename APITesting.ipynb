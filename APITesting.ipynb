{
 "cells": [
  {
   "cell_type": "code",
   "execution_count": 31,
   "metadata": {},
   "outputs": [],
   "source": [
    "def remove_html_tags(text):\n",
    "    \"\"\"Remove html tags from a string\"\"\"\n",
    "    import re\n",
    "    clean = re.compile('<.*?>')\n",
    "    return re.sub(clean, '', text)\n",
    "def remove_special_char(text):\n",
    "    \"\"\"Remove html tags from a string\"\"\"\n",
    "    import re\n",
    "    clean = re.compile('(http://\\S+|\\S*[^\\w\\s]\\S*)')\n",
    "    return re.sub(clean, '', text)"
   ]
  },
  {
   "cell_type": "code",
   "execution_count": 36,
   "metadata": {},
   "outputs": [],
   "source": [
    "csv_dicts = [{\"Description\":\"<html>ghjkhassd 234235 <p>asdhjkhasd bhjkasdnb</p>\",\"Number\":\"INC8902348\",\"Task_type\":\"Incident\"},{\"Description\":\"Hey there, How you doin.<#3** kasdnb\",\"Number\":\"INC8102348\",\"Task_type\":\"Incident\"},{\"Description\":\"Hi Team, <html><P>I am fetching issue while login in.\",\"Number\":\"INC8302348\",\"Task_type\":\"Incident\"}]"
   ]
  },
  {
   "cell_type": "code",
   "execution_count": 37,
   "metadata": {},
   "outputs": [],
   "source": [
    "import pandas as pd\n",
    "input_tickets_df = pd.DataFrame(csv_dicts)"
   ]
  },
  {
   "cell_type": "code",
   "execution_count": 9,
   "metadata": {
    "scrolled": true
   },
   "outputs": [
    {
     "data": {
      "text/plain": [
       "Index(['Description', 'Number', 'Task_type'], dtype='object')"
      ]
     },
     "execution_count": 9,
     "metadata": {},
     "output_type": "execute_result"
    }
   ],
   "source": [
    "input_tickets_df.columns"
   ]
  },
  {
   "cell_type": "code",
   "execution_count": 39,
   "metadata": {},
   "outputs": [],
   "source": [
    "for col in input_tickets_df.columns:\n",
    "    for index,row in input_tickets_df.iterrows():\n",
    "        row[col] = remove_html_tags(row[col])\n",
    "        row[col] = remove_special_char(row[col])"
   ]
  },
  {
   "cell_type": "code",
   "execution_count": 19,
   "metadata": {},
   "outputs": [
    {
     "data": {
      "text/plain": [
       "'[\"Description\", \"Number\", \"Task_type\"]'"
      ]
     },
     "execution_count": 19,
     "metadata": {},
     "output_type": "execute_result"
    }
   ],
   "source": [
    "from bson import json_util\n",
    "json_util.dumps(input_tickets_df.columns)"
   ]
  },
  {
   "cell_type": "code",
   "execution_count": 40,
   "metadata": {
    "scrolled": true
   },
   "outputs": [
    {
     "data": {
      "text/html": [
       "<div>\n",
       "<style scoped>\n",
       "    .dataframe tbody tr th:only-of-type {\n",
       "        vertical-align: middle;\n",
       "    }\n",
       "\n",
       "    .dataframe tbody tr th {\n",
       "        vertical-align: top;\n",
       "    }\n",
       "\n",
       "    .dataframe thead th {\n",
       "        text-align: right;\n",
       "    }\n",
       "</style>\n",
       "<table border=\"1\" class=\"dataframe\">\n",
       "  <thead>\n",
       "    <tr style=\"text-align: right;\">\n",
       "      <th></th>\n",
       "      <th>Description</th>\n",
       "      <th>Number</th>\n",
       "      <th>Task_type</th>\n",
       "    </tr>\n",
       "  </thead>\n",
       "  <tbody>\n",
       "    <tr>\n",
       "      <th>0</th>\n",
       "      <td>ghjkhassd 234235 asdhjkhasd bhjkasdnb</td>\n",
       "      <td>INC8902348</td>\n",
       "      <td>Incident</td>\n",
       "    </tr>\n",
       "    <tr>\n",
       "      <th>1</th>\n",
       "      <td>Hey  How you  kasdnb</td>\n",
       "      <td>INC8102348</td>\n",
       "      <td>Incident</td>\n",
       "    </tr>\n",
       "    <tr>\n",
       "      <th>2</th>\n",
       "      <td>Hi  I am fetching issue while login</td>\n",
       "      <td>INC8302348</td>\n",
       "      <td>Incident</td>\n",
       "    </tr>\n",
       "  </tbody>\n",
       "</table>\n",
       "</div>"
      ],
      "text/plain": [
       "                             Description      Number Task_type\n",
       "0  ghjkhassd 234235 asdhjkhasd bhjkasdnb  INC8902348  Incident\n",
       "1                   Hey  How you  kasdnb  INC8102348  Incident\n",
       "2   Hi  I am fetching issue while login   INC8302348  Incident"
      ]
     },
     "execution_count": 40,
     "metadata": {},
     "output_type": "execute_result"
    }
   ],
   "source": [
    "input_tickets_df"
   ]
  },
  {
   "cell_type": "code",
   "execution_count": 42,
   "metadata": {},
   "outputs": [],
   "source": [
    "json_str = input_tickets_df.to_json(orient='records')"
   ]
  },
  {
   "cell_type": "code",
   "execution_count": 44,
   "metadata": {},
   "outputs": [],
   "source": [
    "import json \n",
    "json_data = json.loads(json_str)"
   ]
  },
  {
   "cell_type": "code",
   "execution_count": 45,
   "metadata": {},
   "outputs": [
    {
     "data": {
      "text/plain": [
       "[{'Description': 'ghjkhassd 234235 asdhjkhasd bhjkasdnb',\n",
       "  'Number': 'INC8902348',\n",
       "  'Task_type': 'Incident'},\n",
       " {'Description': 'Hey  How you  kasdnb',\n",
       "  'Number': 'INC8102348',\n",
       "  'Task_type': 'Incident'},\n",
       " {'Description': 'Hi  I am fetching issue while login ',\n",
       "  'Number': 'INC8302348',\n",
       "  'Task_type': 'Incident'}]"
      ]
     },
     "execution_count": 45,
     "metadata": {},
     "output_type": "execute_result"
    }
   ],
   "source": [
    "json_data"
   ]
  },
  {
   "cell_type": "markdown",
   "metadata": {},
   "source": [
    "# ================================================================"
   ]
  },
  {
   "cell_type": "code",
   "execution_count": 1,
   "metadata": {},
   "outputs": [],
   "source": [
    "data = [{\n",
    "            \"PredictedFieldName\" : \"Assignment_group\",\n",
    "            \"AlgorithmName\" : \"SVC\"\n",
    "        },  \n",
    "        {\n",
    "            \"PredictedFieldName\" : \"Resolution\",\n",
    "            \"AlgorithmName\" : \"RFClassifier\"\n",
    "        }]"
   ]
  },
  {
   "cell_type": "code",
   "execution_count": 2,
   "metadata": {},
   "outputs": [
    {
     "data": {
      "text/plain": [
       "[{'PredictedFieldName': 'Assignment_group', 'AlgorithmName': 'SVC'},\n",
       " {'PredictedFieldName': 'Resolution', 'AlgorithmName': 'RFClassifier'}]"
      ]
     },
     "execution_count": 2,
     "metadata": {},
     "output_type": "execute_result"
    }
   ],
   "source": [
    "data"
   ]
  },
  {
   "cell_type": "code",
   "execution_count": 3,
   "metadata": {},
   "outputs": [],
   "source": [
    "from pymongo import MongoClient\n",
    "import json\n",
    "from bson import json_util\n",
    "client = MongoClient('127.0.0.1',27017)\n",
    "db = client['TicketTriaging']"
   ]
  },
  {
   "cell_type": "code",
   "execution_count": 4,
   "metadata": {},
   "outputs": [],
   "source": [
    "customer_tbl = db.TblCustomer\n",
    "algo_tbl = db.TblAlgorithm\n",
    "training_tickets = db.TblIncidentTraining\n",
    "training_hist = db.TblTraining\n",
    "rt_tickets = db.TblIncidentRT\n",
    "predicted_tickets = db.TblPredictedData"
   ]
  },
  {
   "cell_type": "code",
   "execution_count": 5,
   "metadata": {},
   "outputs": [],
   "source": [
    "predicted_fields = []"
   ]
  },
  {
   "cell_type": "code",
   "execution_count": 6,
   "metadata": {
    "scrolled": true
   },
   "outputs": [
    {
     "data": {
      "text/plain": [
       "[{'PredictedFieldName': 'Assignment_group', 'AlgorithmName': 'SVC'},\n",
       " {'PredictedFieldName': 'Resolution', 'AlgorithmName': 'RFClassifier'}]"
      ]
     },
     "execution_count": 6,
     "metadata": {},
     "output_type": "execute_result"
    }
   ],
   "source": [
    "data"
   ]
  },
  {
   "cell_type": "code",
   "execution_count": null,
   "metadata": {},
   "outputs": [],
   "source": [
    "{'PredictedFieldName': 'Assignment Group', 'InputFields': ['Description', 'Task_type']}\n",
    "{'PredictedFieldName': 'Resolution', 'InputFields': ['Description']}"
   ]
  },
  {
   "cell_type": "code",
   "execution_count": 7,
   "metadata": {},
   "outputs": [],
   "source": [
    "old_selections = customer_tbl.find_one({'CustomerID':1},{\"PredictedFields\":1,\"_id\":0})"
   ]
  },
  {
   "cell_type": "code",
   "execution_count": 8,
   "metadata": {
    "scrolled": true
   },
   "outputs": [
    {
     "data": {
      "text/plain": [
       "[{'PredictedFieldName': 'Assignment_group',\n",
       "  'InputFields': ['Description', 'Task_type'],\n",
       "  'AlgorithmName': 'SVC'},\n",
       " {'PredictedFieldName': 'Resolution',\n",
       "  'InputFields': ['Description'],\n",
       "  'AlgorithmName': 'SVC'}]"
      ]
     },
     "execution_count": 8,
     "metadata": {},
     "output_type": "execute_result"
    }
   ],
   "source": [
    "old_selections[\"PredictedFields\"]"
   ]
  },
  {
   "cell_type": "code",
   "execution_count": 9,
   "metadata": {},
   "outputs": [],
   "source": [
    "updated_selections = []"
   ]
  },
  {
   "cell_type": "code",
   "execution_count": 10,
   "metadata": {},
   "outputs": [],
   "source": [
    "for o_choice in old_selections[\"PredictedFields\"]:\n",
    "    for n_choice in data:\n",
    "        tmpdict = {}\n",
    "        if(o_choice['PredictedFieldName']==n_choice['PredictedFieldName']):\n",
    "            tmpdict = o_choice\n",
    "            tmpdict['AlgorithmName']  = n_choice['AlgorithmName']\n",
    "        if(tmpdict):\n",
    "            updated_selections.append(tmpdict)\n",
    "            break"
   ]
  },
  {
   "cell_type": "code",
   "execution_count": 11,
   "metadata": {},
   "outputs": [
    {
     "data": {
      "text/plain": [
       "[{'PredictedFieldName': 'Assignment_group',\n",
       "  'InputFields': ['Description', 'Task_type'],\n",
       "  'AlgorithmName': 'SVC'},\n",
       " {'PredictedFieldName': 'Resolution',\n",
       "  'InputFields': ['Description'],\n",
       "  'AlgorithmName': 'RFClassifier'}]"
      ]
     },
     "execution_count": 11,
     "metadata": {},
     "output_type": "execute_result"
    }
   ],
   "source": [
    "updated_selections"
   ]
  },
  {
   "cell_type": "code",
   "execution_count": null,
   "metadata": {},
   "outputs": [],
   "source": []
  },
  {
   "cell_type": "code",
   "execution_count": 9,
   "metadata": {},
   "outputs": [
    {
     "data": {
      "text/plain": [
       "<pymongo.results.UpdateResult at 0xcc3e278208>"
      ]
     },
     "execution_count": 9,
     "metadata": {},
     "output_type": "execute_result"
    }
   ],
   "source": [
    "customer_tbl.update_one({'CustomerID':1}, {\"$set\": {\"PredictedFields\":data,\"FieldsStatus\":'Accepted'}}, upsert=False)"
   ]
  },
  {
   "cell_type": "code",
   "execution_count": 20,
   "metadata": {},
   "outputs": [],
   "source": [
    "#data = request.get_json()\n",
    "old_selections = customer_tbl.find_one({'CustomerID':1},{\"PredictedFields\":1,\"_id\":0})\n",
    "updated_selections = []\n",
    "for o_choice in old_selections[\"PredictedFields\"]:\n",
    "    for n_choice in data:\n",
    "        tmpdict = {}\n",
    "        if(o_choice['PredictedFieldName']==n_choice['PredictedFieldName']):\n",
    "            tmpdict = o_choice\n",
    "            tmpdict['AlgorithmName']  = n_choice['AlgorithmName']\n",
    "        if(tmpdict):\n",
    "            updated_selections.append(tmpdict)\n",
    "            break\n",
    "try:\n",
    "    customer_tbl.update_one({'CustomerID':1}, {\"$set\": {\"PredictedFields\":updated_selections}}, upsert=False)\n",
    "    resp = 'success'\n",
    "except Exception as e:\n",
    "    resp = 'failure'"
   ]
  },
  {
   "cell_type": "code",
   "execution_count": 21,
   "metadata": {},
   "outputs": [
    {
     "data": {
      "text/plain": [
       "'success'"
      ]
     },
     "execution_count": 21,
     "metadata": {},
     "output_type": "execute_result"
    }
   ],
   "source": [
    "resp"
   ]
  },
  {
   "cell_type": "code",
   "execution_count": 23,
   "metadata": {},
   "outputs": [
    {
     "name": "stdout",
     "output_type": "stream",
     "text": [
      "Last InProgress training info not found for the customer.\n"
     ]
    }
   ],
   "source": [
    "last_training_dict = training_hist.find_one({\"CustomerID\" : 1,\"FieldsStatus\" : \"InProgress\", \"TrainingID\": {\"$exists\": True}},{'_id':0,\"TrainingID\":1}, sort=[(\"TrainingID\", -1)])\n",
    "if(last_training_dict):\n",
    "    last_training_id = last_training_dict['TrainingID']\n",
    "else:\n",
    "    #It should be non-Registered Customer\n",
    "    print(\"Last InProgress training info not found for the customer.\")\n",
    "    resp = json_util.dumps(\"failure\")\n",
    "try:\n",
    "    customer_tbl.update_one({'CustomerID':1,\"TrainingID\":last_training_id}, {\"$set\": {\"FieldsStatus\":status}}, upsert=False)\n",
    "    resp = 'success'\n",
    "except Exception as e:\n",
    "    resp = 'failure'"
   ]
  },
  {
   "cell_type": "markdown",
   "metadata": {},
   "source": [
    "# Delete All discarded FieldSelections records from TblCustomer"
   ]
  },
  {
   "cell_type": "code",
   "execution_count": 16,
   "metadata": {},
   "outputs": [],
   "source": [
    "o_FieldSelections = [ \n",
    "        {\n",
    "            \"FieldsStatus\" : \"Approved\",\n",
    "            \"PredictedFields\" : [ \n",
    "                {\n",
    "                    \"PredictedFieldName\" : \"Assignment_group\",\n",
    "                    \"InputFields\" : [ \n",
    "                        \"Description\", \n",
    "                        \"Priority\"\n",
    "                    ],\n",
    "                    \"AlgorithmName\" : \"SVC\"\n",
    "                }, \n",
    "                {\n",
    "                    \"PredictedFieldName\" : \"Task_type\",\n",
    "                    \"InputFields\" : [ \n",
    "                        \"Description\", \n",
    "                        \"Priority\"\n",
    "                    ],\n",
    "                    \"AlgorithmName\" : \"SVC\"\n",
    "                }\n",
    "            ]\n",
    "        }, \n",
    "        {\n",
    "            \"FieldsStatus\" : \"Discarded\",\n",
    "            \"PredictedFields\" : [ \n",
    "                {\n",
    "                    \"PredictedFieldName\" : \"Assignment_group\",\n",
    "                    \"InputFields\" : [ \n",
    "                        \"Description\"\n",
    "                    ],\n",
    "                    \"AlgorithmName\" : \"RFClassifier\"\n",
    "                }, \n",
    "                {\n",
    "                    \"PredictedFieldName\" : \"Task_type\",\n",
    "                    \"InputFields\" : [ \n",
    "                        \"Description\", \n",
    "                        \"Priority\"\n",
    "                    ],\n",
    "                    \"AlgorithmName\" : \"SVC\"\n",
    "                }\n",
    "            ]\n",
    "        }\n",
    "    ]\n"
   ]
  },
  {
   "cell_type": "code",
   "execution_count": 17,
   "metadata": {},
   "outputs": [],
   "source": [
    "n_FieldSelections = o_FieldSelections\n",
    "for record in o_FieldSelections:\n",
    "    if(record['FieldsStatus']=='Discarded'):\n",
    "        n_FieldSelections.remove(record)"
   ]
  },
  {
   "cell_type": "code",
   "execution_count": 18,
   "metadata": {},
   "outputs": [
    {
     "data": {
      "text/plain": [
       "[{'FieldsStatus': 'Approved',\n",
       "  'PredictedFields': [{'PredictedFieldName': 'Assignment_group',\n",
       "    'InputFields': ['Description', 'Priority'],\n",
       "    'AlgorithmName': 'SVC'},\n",
       "   {'PredictedFieldName': 'Task_type',\n",
       "    'InputFields': ['Description', 'Priority'],\n",
       "    'AlgorithmName': 'SVC'}]}]"
      ]
     },
     "execution_count": 18,
     "metadata": {},
     "output_type": "execute_result"
    }
   ],
   "source": [
    "n_FieldSelections"
   ]
  },
  {
   "cell_type": "code",
   "execution_count": null,
   "metadata": {},
   "outputs": [],
   "source": []
  }
 ],
 "metadata": {
  "kernelspec": {
   "display_name": "Python 3",
   "language": "python",
   "name": "python3"
  },
  "language_info": {
   "codemirror_mode": {
    "name": "ipython",
    "version": 3
   },
   "file_extension": ".py",
   "mimetype": "text/x-python",
   "name": "python",
   "nbconvert_exporter": "python",
   "pygments_lexer": "ipython3",
   "version": "3.6.4"
  }
 },
 "nbformat": 4,
 "nbformat_minor": 2
}
