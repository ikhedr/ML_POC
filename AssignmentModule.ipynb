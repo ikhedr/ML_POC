{
 "cells": [
  {
   "cell_type": "code",
   "execution_count": 2,
   "metadata": {},
   "outputs": [],
   "source": [
    "from pymongo import MongoClient\n",
    " \n",
    "client = MongoClient()\n",
    "db = client.get_database(\"TicketTriaging\")\n"
   ]
  },
  {
   "cell_type": "code",
   "execution_count": 24,
   "metadata": {},
   "outputs": [],
   "source": [
    "resourceIDs = []\n",
    "\n",
    "for item in list(db.get_collection('TblResourceDetails').find({'seg_id':segmentId,'availability_flag':1,'shift_id':shift_id()},{\"resource_id\":1,\"_id\":0})):\n",
    "    resourceIDs.append(item['resource_id'])\n"
   ]
  },
  {
   "cell_type": "code",
   "execution_count": 25,
   "metadata": {},
   "outputs": [
    {
     "data": {
      "text/plain": [
       "[28, 42, 25, 22, 20, 27, 41, 38, 43, 39, 26]"
      ]
     },
     "execution_count": 25,
     "metadata": {},
     "output_type": "execute_result"
    }
   ],
   "source": [
    "resourceIDs"
   ]
  },
  {
   "cell_type": "code",
   "execution_count": 23,
   "metadata": {},
   "outputs": [],
   "source": [
    "segmentId = list(db.get_collection('TblApplicationDetails').find({'Application_group':'SAP PI Support'},{'seg_id':1,'app_id':1,'_id':0}))[0]['seg_id']\n",
    "segmentId = 1"
   ]
  },
  {
   "cell_type": "code",
   "execution_count": 74,
   "metadata": {
    "scrolled": true
   },
   "outputs": [],
   "source": [
    "#list(db.get_collection('TblSmeMapping').find())"
   ]
  },
  {
   "cell_type": "code",
   "execution_count": 73,
   "metadata": {},
   "outputs": [],
   "source": [
    "#list(db.get_collection('TblSmeMapping').find({},{'SmeId':1,'_id':0}))"
   ]
  },
  {
   "cell_type": "code",
   "execution_count": 26,
   "metadata": {},
   "outputs": [],
   "source": [
    "SmeIds = []\n",
    "\n",
    "for item in list(db.get_collection('TblSmeMapping').find({},{'SmeId':1,'_id':0})):\n",
    "    SmeIds.append(item['SmeId'])"
   ]
  },
  {
   "cell_type": "code",
   "execution_count": 27,
   "metadata": {},
   "outputs": [
    {
     "data": {
      "text/plain": [
       "[15, 12, 23, 25, 14, 18, 9, 6, 7, 24, 26, 31, 41, 13, 38]"
      ]
     },
     "execution_count": 27,
     "metadata": {},
     "output_type": "execute_result"
    }
   ],
   "source": [
    "SmeIds"
   ]
  },
  {
   "cell_type": "code",
   "execution_count": 28,
   "metadata": {},
   "outputs": [],
   "source": [
    "smes = []\n",
    "\n",
    "for item in resourceIDs:\n",
    "    if item in SmeIds:\n",
    "        smes.append(item)"
   ]
  },
  {
   "cell_type": "code",
   "execution_count": 29,
   "metadata": {},
   "outputs": [
    {
     "data": {
      "text/plain": [
       "[25, 41, 38, 26]"
      ]
     },
     "execution_count": 29,
     "metadata": {},
     "output_type": "execute_result"
    }
   ],
   "source": [
    "smes"
   ]
  },
  {
   "cell_type": "code",
   "execution_count": 63,
   "metadata": {},
   "outputs": [],
   "source": []
  },
  {
   "cell_type": "code",
   "execution_count": null,
   "metadata": {},
   "outputs": [],
   "source": []
  },
  {
   "cell_type": "code",
   "execution_count": 30,
   "metadata": {},
   "outputs": [
    {
     "name": "stdout",
     "output_type": "stream",
     "text": [
      "SME with less workload(<0.2):25\n"
     ]
    }
   ],
   "source": [
    "workload = 0.2\n",
    "\n",
    "if(len(smes) > 1):\n",
    "    least_workload = list(db.get_collection('TblResourceDetails').find({'resource_id':smes[0]},{'calculated_workload':1}))[0]['calculated_workload']\n",
    "    for item in smes[1:]:\n",
    "        least_workload1 = list(db.get_collection('TblResourceDetails').find({'resource_id':item},{'calculated_workload':1}))[0]['calculated_workload']\n",
    "        if(least_workload1<least_workload):\n",
    "            least_workload = least_workload1\n",
    "            least_workload_resource = item\n",
    "    if(least_workload < workload):\n",
    "        least_workload_resource = smes[0]\n",
    "    print('SME with less workload(<0.2):%s'%(least_workload_resource))\n",
    "else:\n",
    "    if(len(smes)==1):\n",
    "        sme_one=list(db.get_collection('TblResourceDetails').find({'resource_id':smes[0]},{'calculated_workload':1}))[0]['calculated_workload']\n",
    "        if(sme_one < workload):\n",
    "            least_workload_resource = smes[0]\n",
    "            print('Single SME:%s'%(least_workload_resource))\n",
    "    else:\n",
    "        if(len(resourceIDs)>0):  \n",
    "            least_workload = list(db.get_collection('TblResourceDetails').find({'resource_id':resourceIDs[0]},{'calculated_workload':1}))[0]['calculated_workload']\n",
    "            for item in resourceIDs:\n",
    "                least_workload1 = list(db.get_collection('TblResourceDetails').find({'resource_id':item},{'calculated_workload':1}))[0]['calculated_workload']\n",
    "                if(least_workload1<least_workload):\n",
    "                    least_workload = least_workload1\n",
    "                    least_workload_resource = item\n",
    "            print('Resource(No SME found):%s'%(least_workload_resource))\n",
    "        else:\n",
    "            print('No resource found')\n",
    "        \n",
    "    "
   ]
  },
  {
   "cell_type": "code",
   "execution_count": 30,
   "metadata": {},
   "outputs": [
    {
     "data": {
      "text/plain": [
       "'Sushruth Basavarajappa'"
      ]
     },
     "execution_count": 30,
     "metadata": {},
     "output_type": "execute_result"
    }
   ],
   "source": [
    "list(db.get_collection('TblResourceDetails').find({'resource_id':25},{\"_id\":0,\"resource_name\":1}))[0][\"resource_name\"]"
   ]
  },
  {
   "cell_type": "code",
   "execution_count": 66,
   "metadata": {},
   "outputs": [
    {
     "name": "stdout",
     "output_type": "stream",
     "text": [
      "25\n"
     ]
    }
   ],
   "source": [
    "least_workload = list(db.get_collection('TblResourceDetails').find({'resource_id':resourceIDs[0]},{'calculated_workload':1}))[0]['calculated_workload']\n",
    "for item in resourceIDs[1:]:\n",
    "    least_workload1 = list(db.get_collection('TblResourceDetails').find({'resource_id':item},{'calculated_workload':1}))[0]['calculated_workload']\n",
    "    if(least_workload1<least_workload):\n",
    "        least_workload = least_workload1\n",
    "        least_workload_resource = item\n",
    "print(least_workload_resource)"
   ]
  },
  {
   "cell_type": "code",
   "execution_count": 23,
   "metadata": {},
   "outputs": [
    {
     "data": {
      "text/plain": [
       "0.06"
      ]
     },
     "execution_count": 23,
     "metadata": {},
     "output_type": "execute_result"
    }
   ],
   "source": [
    "list(db.get_collection('TblResourceDetails').find({'resource_id':smes[0]},{'calculated_workload':1}))[0]['calculated_workload']"
   ]
  },
  {
   "cell_type": "code",
   "execution_count": 22,
   "metadata": {},
   "outputs": [
    {
     "ename": "SyntaxError",
     "evalue": "invalid syntax (<ipython-input-22-b15ceef56787>, line 3)",
     "output_type": "error",
     "traceback": [
      "\u001b[1;36m  File \u001b[1;32m\"<ipython-input-22-b15ceef56787>\"\u001b[1;36m, line \u001b[1;32m3\u001b[0m\n\u001b[1;33m    least_workload1.append(list(db.get_collection('TblResourceDetails').find({'resource_id':smes[:]},{'calculated_workload':1,'re':}))[0]['calculated_workload'])\u001b[0m\n\u001b[1;37m                                                                                                                                   ^\u001b[0m\n\u001b[1;31mSyntaxError\u001b[0m\u001b[1;31m:\u001b[0m invalid syntax\n"
     ]
    }
   ],
   "source": [
    "least_workload1 = []\n",
    "for item in smes:\n",
    "    least_workload1.append(list(db.get_collection('TblResourceDetails').find({'resource_id':smes[:]},{'calculated_workload':1,'re':}))[0]['calculated_workload'])\n",
    "        \n",
    "print(min(least_workload1))      "
   ]
  },
  {
   "cell_type": "code",
   "execution_count": 9,
   "metadata": {},
   "outputs": [],
   "source": [
    "from datetime import datetime\n"
   ]
  },
  {
   "cell_type": "code",
   "execution_count": 10,
   "metadata": {
    "scrolled": true
   },
   "outputs": [],
   "source": [
    "curr_time = (datetime.now())\n",
    "current_time = int(curr_time.strftime(\"%H\"))\n"
   ]
  },
  {
   "cell_type": "code",
   "execution_count": 17,
   "metadata": {},
   "outputs": [
    {
     "name": "stdout",
     "output_type": "stream",
     "text": [
      "2\n"
     ]
    }
   ],
   "source": [
    "def shift_id():\n",
    "    if(current_time > 9 and current_time < 18):\n",
    "        shift_id = 2\n",
    "    else:\n",
    "        shift_id = 2\n",
    "    return shift_id\n",
    "    \n",
    "print(shift_id())"
   ]
  },
  {
   "cell_type": "code",
   "execution_count": null,
   "metadata": {},
   "outputs": [],
   "source": []
  },
  {
   "cell_type": "code",
   "execution_count": 60,
   "metadata": {},
   "outputs": [],
   "source": []
  },
  {
   "cell_type": "code",
   "execution_count": null,
   "metadata": {},
   "outputs": [],
   "source": []
  },
  {
   "cell_type": "code",
   "execution_count": null,
   "metadata": {},
   "outputs": [],
   "source": []
  },
  {
   "cell_type": "code",
   "execution_count": null,
   "metadata": {},
   "outputs": [],
   "source": []
  }
 ],
 "metadata": {
  "kernelspec": {
   "display_name": "Python 3",
   "language": "python",
   "name": "python3"
  },
  "language_info": {
   "codemirror_mode": {
    "name": "ipython",
    "version": 3
   },
   "file_extension": ".py",
   "mimetype": "text/x-python",
   "name": "python",
   "nbconvert_exporter": "python",
   "pygments_lexer": "ipython3",
   "version": "3.6.5"
  }
 },
 "nbformat": 4,
 "nbformat_minor": 2
}
